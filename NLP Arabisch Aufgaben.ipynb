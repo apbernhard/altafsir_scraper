{
 "cells": [
  {
   "cell_type": "markdown",
   "metadata": {},
   "source": [
    "<h1><center>NLP für Arabisch mit CAMeL Tools</center></h1>"
   ]
  },
  {
   "cell_type": "markdown",
   "metadata": {},
   "source": [
    "<img src=\"assets/banner.png\" /><br>\n",
    "<br>Herzlich willkommen zu dieser kleinen Einführung zum Thema NLP für Arabisch mit CAMeL Tools! In den folgenden Aufgaben werden wir uns mit dem sechsten Vers (Aya) der ersten Sure des Korans beschäftigen. Genauer gesagt werden wir uns Korankommentare unterschiedlicher Autoren ansehen, die sich mit diesem Vers beschäftigt haben.<br>\n",
    "Wie wir bereits in der Präsentation von Prof. Büssow erfahren haben, scheint für die Textgattung der Korankommentare eine Unterteilung in drei Ansätze möglich: Tradition / Moral, Philologie / Wissenserwerb, Mystik / Erkenntnis.\n",
    "Der Frage, ob sich im Sprachgebrauch von Korankommentatoren, ihrem Wortschatz und den von ihnen verwendeten Metaphern Hinweise finden lassen, welche diese These stützen, möchten wir heute zuarbeiten. Dabei lernen wir\n",
    "- das uns zur Verfügung stehende Korpus (https://www.altafsir.com/Tafasir.asp) kennen,\n",
    "- extrahieren aus dem Korpus ein Sample (`tafsir_extractor`),\n",
    "- bereiten dieses Sample auf, analysieren es (`CAMeL Tools`),\n",
    "- und stellen den Kernwortschatz graphisch in einer Wortwolke dar (`Wordcloud`).\n",
    "\n",
    "Hierbei werden wir bekannte Konzepte, Funktionen und Module, wiederholen und neue Module und ein neues Konzept (das der `Klasse`), kennenlernen.\n",
    "<center>Viel Spaß (und Erfolg)!</center>"
   ]
  },
  {
   "cell_type": "markdown",
   "metadata": {},
   "source": [
    "____"
   ]
  },
  {
   "cell_type": "markdown",
   "metadata": {},
   "source": [
    "## 1. Überblick über den Datenbestand beschaffen"
   ]
  },
  {
   "cell_type": "markdown",
   "metadata": {},
   "source": [
    "Wie wir gesehen haben finden sich auf <a href=\"https://www.altafsir.com\">altafsir.com</a> zahlreiche Tafsire (Korankommentare), die sich an Hand eines Dropdown-Menüs durchstöbern und auswählen lassen. Oh Schreck, alles auf Arabisch! Das wir kein Arabisch können, ist an dieser Stelle aber gar nicht so schlimm! Wir können nämlich trotzdem alle Tafsire identifizieren, da im Ordner <code>./assets/</code> eine csv-Datei <code>tafasir.csv</code> hinterlegt ist, die eine Liste aller verfügbaren Tafsire enthält und von der Seite extrahiert (und etwas ergänzt) wurde. Darin finden wir für jeden Tafsir unterschiedliche Angaben, hierunter seine eindeutige ID, die wir bei der Extraktion des Textes benötigen.<br><br>\n",
    "<b>Aufgabe 1:</b> Wir importieren das Modul pandas. Dann laden wir die Datei <code>./assets/tafasir.csv</code> in einen Dataframe (Trennzeichen beachten!) und machen die Spalte <code>Id</code> zum Index. Zum Schluss lassen wir uns den Dataframe anzeigen."
   ]
  },
  {
   "cell_type": "code",
   "execution_count": null,
   "metadata": {},
   "outputs": [],
   "source": [
    "# Erstellen des Dataframes\n",
    "import pandas as pd\n",
    "\n",
    "tafasir = pd.read_csv(\"./assets/tafasir.csv\", sep=\";\").set_index(\"Id\")"
   ]
  },
  {
   "cell_type": "code",
   "execution_count": null,
   "metadata": {},
   "outputs": [],
   "source": [
    "# Ausgabe des Dataframes\n",
    "tafasir[:7]"
   ]
  },
  {
   "cell_type": "markdown",
   "metadata": {},
   "source": [
    "Als Ergebnis erhalten wir eine Tabelle, mit der wir leichter herausfinden können, welche Id ein bestimmter Tafsir hat. Da uns in unserer Forschungsfrage ein paar Tafsire ganz besonders interessieren, haben wir deren Namen in der Liste `random_tafsir` hinterlegt. Und damit wir nicht alle den selben Tafsir bearbeiten, führen wir den folgenen Code aus, um einen zufälligen Tafsir zugewiesen zu bekommen:"
   ]
  },
  {
   "cell_type": "code",
   "execution_count": null,
   "metadata": {},
   "outputs": [],
   "source": [
    "import random\n",
    "\n",
    "random_tafsir = [\"Muqātil b. Sulaymān\", \"Ibn ʿAǧība\", \"aš-Šaʿrawī\", \"az-Zamaḫšarī\", \"aṭ-Ṭabarī\", \"Abū as-Suʿūd\", \"ar-Rāzī\"]\n",
    "random.choice(random_tafsir)"
   ]
  },
  {
   "cell_type": "markdown",
   "metadata": {},
   "source": [
    "<b>Aufgabe 2:</b> Wir suchen für unseren Tafsir die Id. Hierfür benutzen wir </b> <code>.loc[]</code> und suchen nach einer Übereinstimmung in der Spalte <code>AuthorName</code>.<br>\n",
    "<i>Tipp:</i> Copy & paste für den Tafsirnamen nutzen!"
   ]
  },
  {
   "cell_type": "code",
   "execution_count": null,
   "metadata": {},
   "outputs": [],
   "source": [
    "tafasir.loc[tafasir[\"AuthorName\"] == \"al-Bayḍāwī\"]"
   ]
  },
  {
   "cell_type": "markdown",
   "metadata": {},
   "source": [
    "Nun da wir wissen, welche Id unser Tafsir hat und dass wir uns uns mit Sure 1, Aya 6 beschäftigen wollen, können wir zum nächsten Schritt übergehen und den entsprechenden Text von der Website extrahieren."
   ]
  },
  {
   "cell_type": "markdown",
   "metadata": {},
   "source": [
    "___________"
   ]
  },
  {
   "cell_type": "markdown",
   "metadata": {},
   "source": [
    "# 2. Sample beschaffen\n",
    "Im nächsten Schritt werden wir das Modul <b><code style=\"color:#9b0014\">tafsir_extractor</code></b> importieren, mit dessen Hilfe wir uns den Text unseres Tafsirs erscrapen. Um das Modul kennenzulernen lohnt es sich, die eingebaute Hilfsfunktion <b><code style=\"color:#ce5d19\">help()</code></b> auf das Modul anzuwenden."
   ]
  },
  {
   "cell_type": "code",
   "execution_count": null,
   "metadata": {},
   "outputs": [],
   "source": [
    "import tafsir_extractor as te\n",
    "help(te)"
   ]
  },
  {
   "cell_type": "markdown",
   "metadata": {},
   "source": [
    "Aus dem Hilfe-Output können wir entnehmen, dass das Modul eine Objektklasse namens <code>tafsir_sample</code> enthält. Was aber ist eigentlich ein Objekt und was eine Klasse? Es lohnt sich ein kurzer Exkurs.<br><br>"
   ]
  },
  {
   "cell_type": "markdown",
   "metadata": {},
   "source": [
    "<h2>2.1 Ein Sample von altafsir.com extrahieren</h2>\n",
    "Zurück zu unserem Modul <b><code style=\"color:#9b0014\">tafsir_extractor</code></b>: Wie oben gesehen, bringt das Modul die für Samples vorgesehene Objektklasse <code style=\"color:#9b0014\">tafsir_sample</code> mit, die uns das Leben etwas leichter machen soll. Damit wir ein Objekt dieser Klasse initialisieren können, müssen wir bei der Initialisierung folgende Attribute übergeben:\n",
    "<ul><li>TafsirId</li>\n",
    "<li>Sura</li>\n",
    "<li>Aya</li></ul>\n",
    "Da wir bereits bei der Initialisierung alle notwendigen Informationen zum Extrahieren an unser neues Objekt <code>sample</code> übergeben, können wir mit der Methode <code>collect_data()</code> automatisch den Text für die gewünschte Stelle extrahieren. Dieser wird dann automatisch im Attribut <code>Text</code> unseres Sample-Objekts gespeichert"
   ]
  },
  {
   "cell_type": "markdown",
   "metadata": {},
   "source": [
    "<b>Aufgabe 4:</b> Wir initialisieren unser Sample-Objekt. Bitte Attributnamen durch Werte ersetzen."
   ]
  },
  {
   "cell_type": "code",
   "execution_count": null,
   "metadata": {},
   "outputs": [],
   "source": [
    "import tafsir_extractor as te\n",
    "sample = te.tafsir_sample(TafsirId, Sura, Aya)\n",
    "sample.collect_data()"
   ]
  },
  {
   "cell_type": "markdown",
   "metadata": {},
   "source": [
    "## 2.2 Alternativ: aus Datei laden\n",
    "Sollte es aus irgendwelchen Gründen mit der Extraktion nicht klappen, können wir auf die mitgelieferten Datensätze zurückgreifen.<br>"
   ]
  },
  {
   "cell_type": "markdown",
   "metadata": {},
   "source": [
    "<b>Aufgabe 4 (Alternative):</b> Wir initialisieren unser Sample-Objekt. Bitte Attributnamen durch Werte ersetzen."
   ]
  },
  {
   "cell_type": "code",
   "execution_count": null,
   "metadata": {},
   "outputs": [],
   "source": [
    "import tafsir_extractor as te\n",
    "sample = te.tafsir_sample(TafsirId, Sura, Aya)\n",
    "with open(f\"./data/{sample.TafsirId}-{sample.Sura}_{sample.Aya}.txt\", \"r\", encoding=\"utf-8\") as f:\n",
    "    sample.Text = f.read()"
   ]
  },
  {
   "cell_type": "markdown",
   "metadata": {},
   "source": [
    "Den somit erhaltenen Text können wir uns ganz einfach anzeigen lassen:"
   ]
  },
  {
   "cell_type": "code",
   "execution_count": 90,
   "metadata": {},
   "outputs": [
    {
     "data": {
      "text/plain": [
       "'قال أبو جعفر: ومعنى قوله: { ٱهْدِنَا ٱلصِّرَاطَ ٱلْمُسْتَقِيمَ } فـي هذا الـموضع عندنا: وَفّقنا للثبـات علـيه، كما رُوي ذلك عن ابن عبـاس. حدثنا أبو كريب، قال: حدثنا عثمان بن سعيد، قال: حدثنا بشر بن عمارة، قال: حدثنا أبو روق، عن الضحاك، عن عبد الله بن عبـاس قال: قال جبريـل لـمـحمد: «قل يا مـحمد اهدنا الصراط الـمستقـيـم»، يقول: ألهمنا الطريق الهادي. وإلهامه إياه ذلك هو توفـيقه له كالذي قلنا فـي تأويـله. ومعناه نظير معنى قوله: { إيَّاكَ نَسْتَعِينُ } فـي أنه مسألة العبد ربه التوفـيق للثبـات علـى العمل بطاعته، وإصابة الـحقّ والصواب فـيـما أمره به، ونهاه عنه فـيـما يستقبل من عمره دون ما قد مضى من أعماله، وتقضى فـيـما سلف من عمره، كما فـي قوله: { إِيَّاكَ نَسْتَعِينُ } مسألة منه ربه الـمعونة علـى أداء ما قد كلفه من طاعته فـيـما بقـي من عمره. فكان معنى الكلام: اللهم إياك نعبد وحدك لا شريك لك، مخـلصين لك العبـادة دون ما سواك من الآلهة والأوثان، فأعنا علـى عبـادتك، ووفقنا لـما وفقت له من أنعمت علـيه من أنبـيائك وأهل طاعتك من السبـيـل والـمنهاج. فإن قال قائل: وأنّـي وجدت الهداية فـي كلام العرب بـمعنى التوفـيق؟ قـيـل له: ذلك فـي كلامها أكثر وأظهر من أن يحصى عدد ما جاء عنهم فـي ذلك من الشواهد، فمن ذلك قول الشاعر:لا تَـحْرِمَنِّـي هَدَاكَ اللَّهُ مَسْألتـي\\xa0\\xa0\\xa0ولا أكُونَنْ كمَنْ أوْدَى بِهِ السَّفَرُيعنـي به: وفقك الله لقضاء حاجتـي. ومنه قول الآخر:وَلا تُعْجِلَنِّـي هَدَاكَ الـمَلِـيكُ\\xa0\\xa0\\xa0فإنَّ لِكُلِّ مَقامٍ مَقالاَفمعلوم أنه إنـما أراد: وفقك الله لإصابة الـحقّ فـي أمري. ومنه قول الله جل ثناؤه:{\\xa0وَٱللَّهُ لاَ يَهْدِي ٱلْقَوْمَ ٱلظَّالِمِينَ\\xa0} [البقرة: 258] فـي غير آيَةٍ من تنزيـله. وقد علـم بذلك أنه لـم يعن أنه لا يبـين للظالـمين الواجب علـيهم من فرائضه. وكيف يجوز أن يكون ذلك معناه، وقد عمّ بـالبـيان جميع الـمكلفـين من خـلقه؟ ولكنه عنى جلّ وعز، أنه لا يوفقهم، ولا يشرح للـحق والإيـمان صدورهم. وقد زعم بعضهم أن تأويـل قوله: اهْدِنا زدنا هداية. ولـيس يخـلو هذا القول من أحد أمرين: إما أن يكون قائله قد ظنّ أن النبـي صلى الله عليه وسلم أمر بـمسألة ربه الزيادة فـي البـيان، أو الزيادة فـي الـمعونة والتوفـيق. فإن كان ظن أنه أمر بـمسألة الزيادة فـي البـيان فذلك ما لا وجه له لأن الله جل ثناؤه لا يكلف عبداً فرضاً من فرائضه إلا بعد تبـيـينه له وإقامة الـحجة علـيه به. ولو كان معنى ذلك معنى مسألته البـيان، لكان قد أمر أن يدعو ربه أن يبـين له ما فرض علـيه، وذلك من الدعاء خـلْف لأنه لا يفرض فرضاً إلا مبـيناً لـمن فرضه علـيه، أو يكون أمر أن يدعو ربه أن يفرض علـيه الفرائض التـي لـم يفرضها.\\nوفـي فساد وجه مسألة العبد ربه ذلك ما يوضح عن أن معنى: { ٱهْدِنَا ٱلصِّرَاطَ ٱلْمُسْتَقِيمَ } غير معنى بـين لنا فرائضك وحدودك، أو يكون ظن أنه أمر بـمسألة ربه الزيادة فـي الـمعونة والتوفـيق. فإن كان ذلك كذلك، فلن تـخـلو مسألته تلك الزيادة من أن تكون مسألة للزيادة فـي الـمعونة علـى ما قد مضى من عمله، أو علـى ما يحدث. وفـي ارتفـاع حاجة العبد إلـى الـمعونة علـى ما قد تَقَضَّى من عمله ما يعلـم أن معنى مسألة تلك الزيادة إنـما هو مسألته الزيادة لـما يحدث من عمله. وإذا كان ذلك كذلك صار الأمر إلـى ما وصفنا وقلنا فـي ذلك من أنه مسألة العبد ربه التوفـيق لأداء ما كلف من فرائضه فـيـما يستقبل من عمره. وفـي صحة ذلك فساد قول أهل القدر الزاعمين أن كل مأمور بأمر أو مكلف فرضاً، فقد أعطي من الـمعونة علـيه ما قد ارتفعت معه فـي ذلك الفرض حاجته إلـى ربه لأنه لو كان الأمر علـى ما قالوا فـي ذلك لبطل معنى قول الله جل ثناؤه: { إِيَّاكَ نَعْبُدُ وإِيَّاكَ نَسْتَعِينُ ٱهْدِنَا ٱلصِّرَاطَ ٱلْمُسْتَقِيمَ } وفـي صحة معنى ذلك علـى ما بـينا فسادُ قولهم. وقد زعم بعضهم أن معنى قوله: { ٱهْدِنَا ٱلصِّرَاطَ ٱلْمُسْتَقِيمَ }: أَسْلِكْنا طريق الـجنة فـي الـمعاد، أي قدمنا له وامض بنا إلـيه، كما قال جل ثناؤه: فـاهْدُوهُمْ إلـى صِرَاطِ الـجَحِيـمِ أي أدخـلوهم النار كما تُهدى الـمرأة إلـى زوجها، يعنـي بذلك أنها تدخـل إلـيه، وكما تُهدى الهدية إلـى الرجل، وكما تَهْدِي الساقَ القدمُ نظير قول طرفة بن العبد:لَعِبَتْ بَعْدِي السُّيُولُ بِهِ\\xa0\\xa0\\xa0وجَرَى فـي رَوْنَقٍ رِهَمُهْللفَتـى عَقْلٌ يَعِيش بِهِ\\xa0\\xa0\\xa0حَيْثُ تَهْدِي ساقَهُ قَدَمَهُأي ترد به الـموارد. وفـي قول الله جل ثناؤه:{\\xa0إيَّاكَ نَعْبُدُ وإِيَّاكَ نَسْتَعِينُ\\xa0} [الفاتحة: 5] ما ينبىء عن خطأ هذا التأويـل مع شهادة الـحجة من الـمفسرين علـى تـخطئته وذلك أن جميع الـمفسرين من الصحابة والتابعين مـجمعون علـى أن معنى «الصراط» فـي هذا الـموضع غير الـمعنى الذي تأوله قائل هذا القول، وأن قوله:{\\xa0إِيَّاكَ نَسْتَعِينُ\\xa0} [الفاتحة: 5] مسألة العبد ربه الـمعونة علـى عبـادته، فكذلك قوله «اهدنا»، إنـما هو مسألة الثبـات علـى الهدى فـيـما بقـي من عمره. والعرب تقول: هديت فلاناً الطريق، وهديته للطريق، وهديته إلـى الطريق: إذا أرشدته إلـيه وسددته له. وبكل ذلك جاء القرآن، قال الله جل ثناؤه:{\\xa0وَقَالُواْ ٱلْحَمْدُ للَّهِ ٱلَّذِي هَدَانَا لِهَـٰذَا\\xa0} [الأعراف: 43] وقال فـي موضع آخر:{\\xa0ٱجْتَبَاهُ وَهَدَاهُ إِلَىٰ صِرَاطٍ مُّسْتَقِيمٍ\\xa0} [النحل: 121] وقال: { اهْدِنا الصِّرَاطَ الـمُسْتَقِـيـمَ } وكل ذلك فـاشٍ فـي منطقها موجود فـي كلامها، من ذلك قول الشاعر:أسْتَغْفِرُ اللَّهَ ذَنْبـاً لَسْتُ مُـحْصِيَهُ\\xa0\\xa0\\xa0رَبَّ العِبـادِ إلَـيْهِ الوَجْهُ والعَمَلُ\\nيريد: أستغفر الله لذنب، كما قال جل ثناؤه: { وَاسْتَغْفِرْ لِذَنْبِكَ } ومنه قول نابغة بنـي ذبـيان:فَـيَصِيدُنا العَيَر الـمُدِلَّ بِحُضْرِهِ\\xa0\\xa0\\xa0قَبْلَ الوَنى والأشْعَب النَّبَّـاحايريد: فـيصيد لنا. وذلك كثـير فـي أشعارهم وكلامهم، وفـيـما ذكرنا منه كفـاية. القول فـي تأويـل قوله تعالـى: { ٱلصِّرَاطَ ٱلْمُسْتَقِيمَ }. قال أبو جعفر: أجمعت الأمة من أهل التأويـل جميعاً علـى أن الصراط الـمستقـيـم هو الطريق الواضح الذي لا اعوجاج فـيه. وكذلك ذلك فـي لغة جميع العرب فمن ذلك قول جرير بن عطية الـخطفـي:أمِيرُ الـمُؤْمِنِـينَ علـى صِرَاطِ\\xa0\\xa0\\xa0إذا اعْوَجَّ الـمَوَارِدُ مُسْتَقِـيـمِيريد علـى طريق الـحقّ. ومنه قول الهذلـي أبـي ذؤيب:صَبَحْنا أرضَهُمْ بـالـخَيْـلِ حتَّـى\\xa0\\xa0\\xa0تَرْكْناها أدَقَّ مِنَ الصِّرَاطِومنه قول الراجز:فَصُدَّ عَنْ نَهْجِ الصِّرَاطِ القَاصِدِ\\xa0\\xa0\\xa0والشواهد علـى ذلك أكثر من أن تـحصى، وفـيـما ذكرنا غنى عما تركنا. ثم تستعير العرب الصراط فتستعلـمه فـي كل قول وعمل وصف بـاستقامة أو اعوجاج، فتصف الـمستقـيـم بـاستقامته، والـمعوجّ بـاعوجاجه. والذي هو أولـى بتأويـل هذه الآية عندي، أعنـي: { ٱهْدِنَا ٱلصِّرَاطَ ٱلْمُسْتَقِيمَ } أن يكون معنـياً به: وَفِّقنا للثبـات علـى ما ارتضيته ووفقتَ له من أنعمتَ علـيه من عبـادك، من قول وعمل. وذلك هو الصراط الـمستقـيـم، لأن من وفق لـما وفق له من أنعم الله علـيه من النبـيـين والصديقـين والشهداء، فقد وفق للإسلام، وتصديق الرسل، والتـمسك بـالكتاب، والعمل بـما أمر الله به، والانزجار عما زجره عنه، واتبـاع منهج النبـي صلى الله عليه وسلم، ومنهاج أبـي بكر وعمر وعثمان وعلـيّ، وكل عبد لله صالـح. وكل ذلك من الصراط الـمستقـيـم. وقد اختلفت تراجمة القرآن فـي الـمعنى بـالصراط الـمستقـيـم، يشمل معانـي جميعهم فـي ذلك ما اخترنا من التأويـل فـيه. ومـما قالته فـي ذلك، ما رُوي عن علـيّ بن أبـي طالب رضي الله عنه، عن النبـي صلى الله عليه وسلم أنه قال وذَكَرَ القُرآنَ فَقَال: \" هُوَ الصِّرَاطُ الْـمُسْتَقِـيـمُ \" حدثنا بذلك موسى بن عبد الرحمن الـمسروقـي قال: حدثنا حسين الـجعفـي، عن حمزة الزيات، عن أبـي الـمختار الطائي، عن ابن أخي الـحرث، عن الـحرث، عن علـيّ، عن النبـي صلى الله عليه وسلم. وحدثنا عن إسماعيـل بن أبـي كريـمة، قال: حدثنا مـحمد بن سلـمة، عن أبـي سنان، عن عمرو بن مرة، عن أبـي البختري، عن الـحرث، عن علـيّ، عن النبـي صلى الله عليه وسلم مثله. وحدثنا أحمد بن إسحاق الأهوازي، قال: حدثنا أبو أحمد الزبـيري، قال: حدثنا حمزة الزيات، عن أبـي الـمختار الطائي، عن ابن أخي الـحرث الأعور، عن الـحرث، عن علـيّ، قال: «الصِّرَاطُ الـمُسْتَقِـيـمُ كِتابُ اللَّهِ تَعالـى». حدثنا أحمد بن إسحاق الأهوازي، قال: حدثنا أبو أحمد الزبـيري، قال: حدثنا سفـيان ح. وحدثنا مـحمد بن حميد الرازي، قال: حدثنا مهران، عن سفـيان، عن منصور عن أبـي وائل، قال: قال عبد الله: «الصراط الـمستقـيـم كتاب الله».\\nحدثنـي مـحمود بن خداش الطالقانـي، قال: حدثنا حميد بن عبد الرحمن الرؤاسي، قال: حدثنا علـيّ والـحسن ابنا صالـح جميعاً، عن عبد الله بن مـحمد بن عقـيـل، عن جابر بن عبد الله. اهدنا الصراط الـمستقـيـم قال: الإسلام، قال:  هو أوسع مـما بـين السماء والأرض. حدثنا أبو كريب، قال: حدثنا عثمان بن سعيد، قال: حدثنا بشر بن عمار، قال: حدثنا أبو روق عن الضحاك، عن عبد الله بن عبـاس، قال: قال جبريـل لـمـحمد: قل يا مـحمد: اهدنا الصراط الـمستقـيـم، يقول ألهمنا الطريق الهادي وهو دين الله الذي لا عوج له. وحدثنا موسى بن سهل الرازي، قال: حدثنا يحيى بن عوف، عن الفرات بن السائب، عن ميـمون بن مهران، عن ابن عبـاس فـي قوله: { ٱهْدِنَا ٱلصِّرَاطَ ٱلْمُسْتَقِيمَ } قال: ذلك الإسلام. وحدثنـي مـحمود بن خداش، قال: حدثنا مـحمد بن ربـيعة الكلابـي، عن إسماعيـل الأزرق، عن أبـي عمر البزار، عن ابن الـحنفـية فـي قوله: { ٱهْدِنَا ٱلصِّرَاطَ ٱلْمُسْتَقِيمَ } قال: هو دين الله الذي لا يقبل من العبـاد غيره. وحدثنـي موسى بن هارون الهمدانـي، قال: حدثنا عمرو بن طلـحة القناد، قال: حدثنا أسبـاط، عن السدي فـي خبر ذكره عن أبـي مالك، وعن أبـي صالـح عن ابن عبـاس، وعن مرة الهمدانـي، عن ابن مسعود، وعن أناس من أصحاب النبـيّ صلى الله عليه وسلم: { ٱهْدِنَا ٱلصِّرَاطَ ٱلْمُسْتَقِيمَ } قال: هو الإسلام. وحدثنا القاسم بن الـحسن، قال: حدثنا الـحسين بن داود، قال: حدثنـي حجاج عن ابن جريج قال: قال ابن عبـاس فـي قوله: اهْدِنا الصرَاطَ الـمُسْتَقِـيـمَ قال: الطريق. حدثنا عبد الله بن كثـير أبو صديف الآملـي، قال: حدثنا هاشم بن القاسم، قال: حدثنا حمزة بن أبـي الـمغيرة، عن عاصم، عن أبـي العالـية فـي قوله: { ٱهْدِنَا ٱلصِّرَاطَ ٱلْمُسْتَقِيمَ } قال: هو رسول الله صلى الله عليه وسلم وصاحبـاه من بعده: أبو بكر وعمر. قال: فذكرت ذلك للـحسن، فقال: صدق أبو العالـية ونصح. وحدثنـي يونس بن عبد الأعلـى، قال: حدثنا ابن وهب، قال: قال عبد الرحمن بن يزيد بن أسلـم: { ٱهْدِنَا ٱلصِّرَاطَ ٱلْمُسْتَقِيمَ } قال: الإسلام. حدثنا الـمثنى، قال: حدثنا أبو صالـح، قال: حدثنـي معاوية بن صالـح، أن عبد الرحمن بن جبـير، حدثه عن أبـيه، عن نواس بن سمعان الأنصاري، عن رسول الله صلى الله عليه وسلم قال: \" ضَرَبَ اللَّه مَثَلاً صرَاطاً مُسْتَقِـيـماً \" . وَالصِّرَاطُ: الإسْلامُ. حدثنا الـمثنى، قال: حدثنا آدم العسقلانـي، قال: حدثنا اللـيث عن معاوية بن صالـح، عن عبد الرحمن بن جبـير بن نفـير، عن أبـيه عن نواس بن سمعان الأنصاري، عن النبـي صلى الله عليه وسلم بـمثله. قال أبو جعفر: وإنـما وصفه الله بـالاستقامة، لأنه صواب لا خطأ فـيه. وقد زعم بعض أهل الغبـاء أنه سماه مستقـيـماً لاستقامته بأهله إلـى الـجنة، وذلك تأويـلٌ لتأويـل جميع أهل التفسير خلاف، وكفـى بإجماع جميعهم علـى خلافه دلـيلاً علـى خطئه.'"
      ]
     },
     "execution_count": 90,
     "metadata": {},
     "output_type": "execute_result"
    }
   ],
   "source": [
    "sample.Text"
   ]
  },
  {
   "cell_type": "markdown",
   "metadata": {},
   "source": [
    "____"
   ]
  },
  {
   "cell_type": "markdown",
   "metadata": {},
   "source": [
    "# 3 Preprocessing\n",
    "Bevor wir den Text analysieren können, müssen wir ihn zunächst vorverarbeiten, um ihn in eine für unser Toolkit \"saubere\" Form zu überführen.\n",
    "\n",
    "## 3.1 Normalisierung der Daten\n",
    "In einem ersten Schritt möchten wir den Text normalisieren, das heißt ihn von Ungleichmäßigkeiten im Zeichensatz und von Inhalten, die für unsere Fragestellung irrelevant sind, befreien. In diesem Fall möchten wir:\n",
    "- alle Unicode-Zeichen normalisieren (z.B. `\\xa0` zu Leerzeichen),\n",
    "- alle Diakritischen Zeichen,\n",
    "- Koranzitate, Querverweise auf andere Koranverse und Eulogien\n",
    "- sowie alle Zeichen, die nicht zu den Konsonanten und Halbvokalen des Arabischen Kernalphabets gehören,\n",
    "\n",
    "entfernen. Hierfür können wir einige Funktionen aus <a href=\"https://camel-tools.readthedocs.io/en/latest/\">CAMeL Tools</a> importierten. Für das Entfernen von Koranzitaten etc. müssen wir aber auf eigene Funktionen zurückgreifen. So ist der Code allerdings noch lauffähig. Wir werfen einen Blick auf <b>Aufgaben 6</b> und <b>7</b> weiter unten um den Code zu vervollständigen.\n"
   ]
  },
  {
   "cell_type": "code",
   "execution_count": 93,
   "metadata": {},
   "outputs": [],
   "source": [
    "from camel_tools.utils.normalize import normalize_unicode\n",
    "from camel_tools.utils.dediac import dediac_ar\n",
    "import re\n",
    "\n",
    "def reduce_charset(text):\n",
    "    \"\"\"Entfernt alle Zeichen aus dem Text, die nicht zwischen\n",
    "    'X' und 'Y' liegen\"\"\"\n",
    "\n",
    "    chars_excluded = '[^\\u0621-\\u064A ]'\n",
    "    text = re.sub(chars_excluded, ' ', text)\n",
    "    \n",
    "    return text\n",
    "\n",
    "def remove_aya(text):\n",
    "    \"\"\"Entfernt alle aus dem Koran zitierten Textstellen\"\"\"\n",
    "    \n",
    "    aya = '\\{(.*?)\\}'####\n",
    "    text = re.sub(aya, '', text)\n",
    "\n",
    "    return text\n",
    "\n",
    "def remove_ref(text):\n",
    "    \"\"\"Entfernt alle Verweise auf weitere Verse im Koran\n",
    "    aus dem Text\"\"\"\n",
    "    \n",
    "    ref = '\\[(.*?)\\]'\n",
    "    text = re.sub(ref, '', text)\n",
    "    \n",
    "    return text\n",
    "\n",
    "def remove_eulogies(text):\n",
    "    \"\"\"Entfernt Eulogien (Segenssprüche) aus dem Text\"\"\"\n",
    "    \n",
    "    with open(\"./assets/eulogies.txt\", encoding=\"utf-8\") as f:\n",
    "        eulogies = f.read().splitlines()\n",
    "    \n",
    "    for eulogy in eulogies:\n",
    "        text = re.sub(eulogy, '', text)\n",
    "    \n",
    "    return text\n",
    "\n",
    "def normalizer(string):\n",
    "    \"\"\"Wendet die Gewünschten Normalisierungsschritte an\"\"\"\n",
    "\n",
    "    # Unicode-Zeichensatz normalisieren\n",
    "    str_norm = normalize_unicode(string)\n",
    "    \n",
    "    # Diakritika aus dem Text entfernen\n",
    "    str_norm = dediac_ar(str_norm)\n",
    "\n",
    "    # Koranzitate, Verweise und Eulogien entfernen\n",
    "    str_norm = remove_aya(str_norm)\n",
    "    str_norm = remove_ref(str_norm)\n",
    "    str_norm = remove_eulogies(str_norm)\n",
    "    \n",
    "    # Zeichensatz auf relevante Zeichen reduzieren\n",
    "    str_norm = reduce_charset(str_norm)\n",
    "\n",
    "    return str_norm"
   ]
  },
  {
   "cell_type": "markdown",
   "metadata": {},
   "source": [
    "<b>Aufgabe 5:</b> In der Funktion <code style=\"color:#ce5d19\">reduce_charset()</code> wird durch die Variable <code style=\"color:#4e89b4\">chars_excluded</code> ein Zeichenbereich angegeben. Wie lauten die Arabischen Namen der beiden Buchstaben, die diesen Zeichenbereich begrenzen? Wir ersetzen im DocString <code>X</code> und <code>Y</code> durch die entsprechenden Namen. <li><i>Tipp:</i> <a href=\"https://unicode-table.com/de/\">Unicode Zeichentabelle</a>"
   ]
  },
  {
   "cell_type": "markdown",
   "metadata": {},
   "source": [
    "<b>Aufgabe 6:</b> Mit der Funktion <code style=\"color:#ce5d19\">remove_aya()</code> sollen alle Koranzitate aus dem Text entfernt werden. Koranzitate sind sehr leicht identifizierbar, da sie von geschweiften Klammern (<code>{}</code>)umgeben werden. Wie lautet ein möglicher regulärer Ausdruck, den wir der Variable <code style=\"color:#4e89b4\">aya</code> zuweisen müssen, um alle Koranzitate zu erfassen?\n",
    "<li><i>Tipp:</i> Das Tool <a href=\"https://regex101.com/\">regular expressions 101</a> ist sehr hilfreich, aber Vorsicht: Die Darstellung von Markierungen bei rechtsläufiger Schrift kann irritieren!<br>\n",
    "<li><i>Hinweis:</i> Text zum Testen kann über <code style=\"color:#4e89b4\">sample</code><code>.</code><code style=\"color:#9872a2\">Text</code> abgerufen werden und von dann kopiert werden."
   ]
  },
  {
   "cell_type": "markdown",
   "metadata": {},
   "source": [
    "<b>Aufgabe 7:</b> Analog zu <b>6</b>, nur dass Querverweise von eckigen Klammern (<code>[]</code>) umgeben werden."
   ]
  },
  {
   "cell_type": "markdown",
   "metadata": {},
   "source": [
    "Jetzt wo der Code vollständig ist, können wir den <code style=\"color:#ce5d19\">normalizer()</code> auf unseren Text anwenden. Hier wird nun ein Vorzug von Objekten sichtbar: wir können unserem Sample einfach ein neues Attribut zuweisen, das wir Normalized nennen und in dem wir den normalisierten Text speichern. So können wir den Originaltext für (un-)vorhergesehene Fälle aufbewahren, ohne ihn zu überschreiben."
   ]
  },
  {
   "cell_type": "code",
   "execution_count": 94,
   "metadata": {},
   "outputs": [],
   "source": [
    "sample.Normalized = normalizer(sample.Text)"
   ]
  },
  {
   "cell_type": "markdown",
   "metadata": {},
   "source": [
    "## 3.2 Tokenisierung\n",
    "Nun trennen wir mit Hilfe des in CAMeL-Tools enthaltenen Tokenizers unseren Text (im Augenblick ein langer String) in eine Liste aller Einzelwörter auf, die wir in unserem Sample in einem neuen Attribut namens Tokenized speichern."
   ]
  },
  {
   "cell_type": "code",
   "execution_count": 106,
   "metadata": {},
   "outputs": [],
   "source": [
    "from camel_tools.tokenizers.word import simple_word_tokenize\n",
    "\n",
    "sample.Tokenized = simple_word_tokenize(sample.Normalized)"
   ]
  },
  {
   "cell_type": "markdown",
   "metadata": {},
   "source": [
    "## 3.3 Disambiguierung\n",
    "Ein besonders vielseitiges und starkes Tool, das für unsere weiteren Schritte von zentraler Bedeutung ist, ist der Maximum Likelihood Disambiguator (MLED). Dieses Tool greift auf mitgelieferte Datensätze zurück und berechnet damit für jeden Token, um was für ein Lemma, in welcher Form usw. es sich handelt. Eine hilfreiche Übersicht über die berechneten Parameter findet sich in der Dokumentation unter <a href=\"https://camel-tools.readthedocs.io/en/latest/reference/camel_morphology_features.html#camel-morphology-features\">CAMeL Morphology Features</a>."
   ]
  },
  {
   "cell_type": "code",
   "execution_count": 189,
   "metadata": {},
   "outputs": [],
   "source": [
    "from camel_tools.disambig.mle import MLEDisambiguator\n",
    "\n",
    "# Eine Instanz des Maximum Likelihood Disambiguator wird aufgerufen\n",
    "mle = MLEDisambiguator.pretrained()\n",
    "\n",
    "# Der Text wird in tokenisierter Form übergeben\n",
    "sample.Disambiguated = mle.disambiguate(sample.Tokenized)"
   ]
  },
  {
   "cell_type": "markdown",
   "metadata": {},
   "source": [
    "Wirft man einen ersten Blick auf den Output des MLED, so wirkt er zugegebenermaßen etwas verwirrend. Dem schafft die folgende Grafik abhilfe, die den Output etwas aufschlüsselt und zugänglicher macht.<br>\n",
    "<center><img src=\"assets/MLED_output_tree.png\" /><br></center>\n",
    "<b>Bildbeschreibung:</b> der MLED übergibt uns eine Liste, in der sich für jeden Token ein Objekt der Klasse DisambiguatedWord befindet. DisambiguatedWord hat zwei Attribute: word (der Token selbst) sowie analyses (eine Liste). analyses beinhaltet ScoredAnalysis-Objekte. In unserem Fall ist es immer nur ein einziges ScoredAnalysis-objekt und der Index-Wert somit immer 0 (in anderen Fällen auch > 1 ScoredAnalysis-Objekt). Das ScoredAnalysis-Objekt hat zwei Attribute: score (ein Float-Wert) und analysis (ein Dictionary). In diesem Dictionary befinden sich die für uns relevanten Daten wie Lemma, Part-Of-Speech-Tag, Wortstamm etc."
   ]
  },
  {
   "cell_type": "markdown",
   "metadata": {},
   "source": [
    "<b>Aufgabe 8:</b> Wir lassen uns für einen beliebigen Token den Parameter \"stemgloss\" ausgeben, der uns die englische Bedeutung"
   ]
  },
  {
   "cell_type": "code",
   "execution_count": 200,
   "metadata": {},
   "outputs": [
    {
     "data": {
      "text/plain": [
       "'Jaafar'"
      ]
     },
     "execution_count": 200,
     "metadata": {},
     "output_type": "execute_result"
    }
   ],
   "source": [
    "sample.Disambiguated[2].analyses[0].analysis[\"stemgloss\"]\n",
    "# sample.Disambiguated[2]"
   ]
  },
  {
   "cell_type": "markdown",
   "metadata": {},
   "source": [
    "Damit wir gleich den Text um seine Stopwörter reduzieren können, fügen wir dem Objekt `corpus[\"Disambig\"]` ein Attribut hinzu, welches das Lemma in normalisierter Form enthält."
   ]
  },
  {
   "cell_type": "code",
   "execution_count": null,
   "metadata": {},
   "outputs": [],
   "source": [
    "from camel_tools.utils.normalize import normalize_alef_ar\n",
    "from camel_tools.utils.dediac import dediac_ar\n",
    "\n",
    "for i, val in enumerate(sample.Disambiguated):\n",
    "    normalized = normalize_alef_ar(dediac_ar(val.analyses[0].analysis[\"lex\"]))\n",
    "    sample.Disambiguated[i].normalized = normalized"
   ]
  },
  {
   "cell_type": "markdown",
   "metadata": {},
   "source": [
    "## 3.4 Filtern unerwünschter Wörter\n",
    "### 3.4.1 Durch Part-Of-Speech-Tags"
   ]
  },
  {
   "cell_type": "code",
   "execution_count": null,
   "metadata": {},
   "outputs": [],
   "source": [
    "sample.Filtered = sample.Disambiguated.copy()"
   ]
  },
  {
   "cell_type": "code",
   "execution_count": null,
   "metadata": {},
   "outputs": [],
   "source": [
    "sample.Filtered == sample.Disambiguated"
   ]
  },
  {
   "cell_type": "code",
   "execution_count": null,
   "metadata": {},
   "outputs": [],
   "source": [
    "for i in enumerate(sample.Filtered):\n",
    "    if sample.Filtered[i[0]].analyses[0].analysis[\"pos\"] in (\"conj\", \"prep\", \"pron\", \"abbrev\", \"pron_dem\", \"conj_sub\"):\n",
    "        sample.Filtered.pop(i[0])"
   ]
  },
  {
   "cell_type": "markdown",
   "metadata": {},
   "source": [
    "### 3.4.2 Mittels Stopwortliste"
   ]
  },
  {
   "cell_type": "code",
   "execution_count": null,
   "metadata": {},
   "outputs": [],
   "source": [
    "# Stopwortliste aus NLTK extrahiert\n",
    "with open(\"./assets/stopwords_nltk.txt\", \"r\", encoding=\"utf-8\") as sf:\n",
    "    stopwords_nltk = normalize_alef_ar(dediac_ar(sf.read()))\n",
    "\n",
    "# Zusätzliche Stopwörter\n",
    "with open(\"./assets/stopwords_extra.txt\", \"r\", encoding=\"utf-8\") as sf:\n",
    "    stopwords_extra = normalize_alef_ar(dediac_ar(sf.read()))\n",
    "\n",
    "stopwords = stopwords_nltk + \" \" + stopwords_extra\n",
    "stopwords = stopwords.split()"
   ]
  },
  {
   "cell_type": "code",
   "execution_count": null,
   "metadata": {},
   "outputs": [],
   "source": [
    "def del_stopwords(token_list, stopwords_list):\n",
    "    \"\"\"Entfernt alle in der Stopwortliste vorhandenen Einträge\n",
    "    aus dem Datensatz der disambiguierten Tokens.\"\"\"\n",
    "\n",
    "    for i, token in enumerate(token_list):\n",
    "        if token.normalized in stopwords_list:\n",
    "            token_list.pop(i)\n",
    "        else:\n",
    "            pass\n",
    "    \n",
    "    return len(token_list)"
   ]
  },
  {
   "cell_type": "markdown",
   "metadata": {},
   "source": [
    "Da nicht bei jedem Durchgang auch wirklich alle Stopwörter erfasst werden, wird der Vorgang solange durchgeführt, bis sich die Länge des verbleibenden Tokensatzes nicht mehr verändert"
   ]
  },
  {
   "cell_type": "code",
   "execution_count": null,
   "metadata": {},
   "outputs": [],
   "source": [
    "while True:\n",
    "    if len(sample.Filtered) == del_stopwords(sample.Filtered, stopwords):\n",
    "        print(len(sample.Filtered))\n",
    "        break\n",
    "    else:\n",
    "        del_stopwords(sample.Filtered, stopwords)"
   ]
  },
  {
   "cell_type": "markdown",
   "metadata": {},
   "source": [
    "## 4. Visualisierung\n",
    "### 4.1 Häufigkeiten von Lemmata"
   ]
  },
  {
   "cell_type": "code",
   "execution_count": null,
   "metadata": {},
   "outputs": [],
   "source": [
    "# für Häufigkeitsverteilungen\n",
    "from collections import Counter\n",
    "\n",
    "# Für Grafik\n",
    "import matplotlib.pyplot as plt          \n",
    "from wordcloud import WordCloud\n",
    "\n",
    "# Für die korrekte Darstellung\n",
    "# arabischer Schrift in Grafiken\n",
    "from arabic_reshaper import reshape\n",
    "from bidi.algorithm import get_display"
   ]
  },
  {
   "cell_type": "code",
   "execution_count": null,
   "metadata": {},
   "outputs": [],
   "source": [
    "# Auswahl des gewünschten Parameters\n",
    "parameter = \"lex\"\n",
    "\n",
    "# Korrektur der Darstellung arab. Buchstaben\n",
    "rtl = lambda w: get_display(reshape(f'{w}'))\n",
    "\n",
    "# Auswahl aller Werte durch 'parameter' bestimmte Werte mittles Listen-Abstraktion,\n",
    "# Berechnung der Häufigkeiten, Umwandlung von Tuples in Dictionary\n",
    "counter_input = [v.analyses[0].analysis[f\"{parameter}\"] for v in sample.Filtered]\n",
    "counter_output = Counter(counter_input).most_common(40)\n",
    "counts = {rtl(k):v for k, v in counter_output}\n",
    "counts_ltr = {k:v for k, v in counter_output}\n",
    "\n",
    "\n",
    "# Ausgabe der Häufigkeiten in Datei\n",
    "with open(f\"./output/{sample.TafsirId}-{sample.Sura}_{sample.Aya}_{parameter}_freqs.csv\", 'w', encoding=\"utf-8\") as f:\n",
    "    for key in counts_ltr.keys():\n",
    "        f.write(\"%s, %s\\n\" % (key, counts_ltr[key]))\n",
    "\n",
    "\n",
    "# Angabe des Font-Files zur Darstellung arab. Buchstaben\n",
    "# und Ausgabe der Wortwolke in Datei und Plot\n",
    "font_file = './assets/fonts/NotoNaskhArabic-Regular.ttf'\n",
    "\n",
    "wordcloud = WordCloud(font_path=font_file,\n",
    "                      background_color=\"white\",\n",
    "                      width=400,\n",
    "                      height=200).generate_from_frequencies(counts)\n",
    "wordcloud.to_file(f\"./output/{sample.TafsirId}-{sample.Sura}_{sample.Aya}_{parameter}_wc.png\")\n",
    "\n",
    "plt.figure(figsize=(10,10))\n",
    "plt.imshow(wordcloud, interpolation=\"bilinear\")\n",
    "plt.axis(\"off\")\n",
    "plt.show()"
   ]
  },
  {
   "cell_type": "markdown",
   "metadata": {},
   "source": [
    "### 4.2 Häufigkeiten von Stammbedeutungen"
   ]
  },
  {
   "cell_type": "code",
   "execution_count": null,
   "metadata": {},
   "outputs": [],
   "source": [
    "# Auswahl des gewünschten Parameters\n",
    "parameter = \"stemgloss\"\n",
    "\n",
    "\n",
    "# Auswahl aller Werte durch 'parameter' bestimmte Werte mittles Listen-Abstraktion,\n",
    "# Berechnung der Häufigkeiten, Umwandlung von Tuples in Dictionary\n",
    "counter_input = [v.analyses[0].analysis[f\"{parameter}\"] for v in sample.Filtered]\n",
    "counter_output = Counter(counter_input).most_common(40)\n",
    "counts = {k:v for k, v in counter_output}\n",
    "\n",
    "\n",
    "# Ausgabe der Häufigkeiten in Datei\n",
    "with open(f\"./output/{sample.TafsirId}-{sample.Sura}_{sample.Aya}_{parameter}_freqs.csv\", 'w', encoding=\"utf-8\") as f:\n",
    "    for key in counts.keys():\n",
    "        f.write(\"%s, %s\\n\" % (key, counts[key]))\n",
    "\n",
    "\n",
    "# Ausgabe der Wortwolke in Datei und Plot\n",
    "wordcloud = WordCloud(background_color=\"white\",\n",
    "                      width=400,\n",
    "                      height=200).generate_from_frequencies(counts)\n",
    "wordcloud.to_file(f\"./output/{sample.TafsirId}-{sample.Sura}_{sample.Aya}_{parameter}_wc.png\")\n",
    "\n",
    "plt.figure(figsize=(10,10))\n",
    "plt.imshow(wordcloud, interpolation=\"bilinear\")\n",
    "plt.axis(\"off\")\n",
    "plt.show()"
   ]
  },
  {
   "cell_type": "markdown",
   "metadata": {},
   "source": [
    "<center><h1>Exkurs: Klassen</h1></center>\n",
    "Werfen wir einen kurzen Blick auf das Foto, so erkennen wir unschwer, dass es sich bei all den abgebildeten Vierbeinern, so sehr sie sich auch unterscheiden mögen, um Hunde handelt. Deshalb sagen wir, dass sie der Klasse <b><code style=\"color:#9b0014\">Hunde</code></b> angehören. Deshalb ist jeder einzelne Vierbeiner eine Instanz des Objekttyps \"Hund\".\n",
    "<center><img src=\"assets/Collage_of_Nine_Dogs.jpg\" width=300 /></center><br>\n",
    "Zudem haben Hunde bestimmte Eigenschaften wie <code style=\"color:#9872a2\">Größe</code>, <code style=\"color:#9872a2\">Fellfarbe</code> oder <code style=\"color:#9872a2\">Schnauzentyp</code>. Diese Eigenschaften nennen wir <b><code style=\"color:#9872a2\">Attribute</code></b>.<br>\n",
    "Hunde haben aber auch bestimmte Fähigkeiten, für die sie von vielen Menschen geliebt werden: Sie können zum Beispiel mit ihrer Nase <code style=\"color:#ce5d19\">spüren()</code>, können <code style=\"color:#ce5d19\">bellen()</code> oder <code style=\"color:#ce5d19\">sabbern()</code>. All diese Fähigkeiten sind im Prinzip Funktionen, da sie aber zur Klasse <b><code style=\"color:#9b0014\">Hunde</code></b> gehören, nennen wir sie <b><code style=\"color:#ce5d19\">Methoden</code></b>.<br>\n",
    "Lasst uns nun diese Beispielklasse erstellen:"
   ]
  },
  {
   "cell_type": "code",
   "execution_count": null,
   "metadata": {},
   "outputs": [],
   "source": [
    "# Wir definieren eine neue Klasse Namens \"Hunde\"\n",
    "class Hunde:\n",
    "    # wird eine Instanz von Hunde, also ein Hund, initialisiert\n",
    "    # müssen die Attribute Größe, Fellfarbe und Schnauzentyp angegeben werden\n",
    "    def __init__(self, groesse, fellfarbe, schnauzentyp):\n",
    "        self.groesse = groesse\n",
    "        self.fellfarbe = fellfarbe\n",
    "        self.schnauzentyp = schnauzentyp\n",
    "        self.sabbern()\n",
    "        self.bellen()\n",
    "\n",
    "# ein Hund kann bellen, sabbern und sitz machen.\n",
    "# Damit ihm aber klar wird, dass genau er gemeint ist\n",
    "# müssen wir ihn bestärken, indem wir immer \n",
    "# \"Du! Ja, Bello! Fein, Du Bello!\" sagen.\n",
    "# Und das machen wir jedes mal wieder durch self ...\n",
    "    def bellen(self):\n",
    "        print(\"...Wuff Wuff!\")\n",
    "\n",
    "    def sabbern(self):\n",
    "        print(\"...sabbert...\")\n",
    "\n",
    "    def sitz(self):\n",
    "        print(\"...macht Sitz...\")"
   ]
  },
  {
   "cell_type": "markdown",
   "metadata": {},
   "source": [
    "Wir haben nun die Klasse <b><code style=\"color:#9b0014\">Hunde</code></b> erstellt und können unseren ersten Hund nach Hause holen/initialisieren. Diesen würden wir gerne <code>bello</code> nennen. Bello ist 40 cm groß, hat braunes Fell und eine Stupsnase."
   ]
  },
  {
   "cell_type": "code",
   "execution_count": null,
   "metadata": {},
   "outputs": [],
   "source": [
    "Bello = Hunde(120, \"braun\", \"gedrungen\")"
   ]
  },
  {
   "cell_type": "markdown",
   "metadata": {},
   "source": [
    "Bello ist zuhause angekommen und das erste was er macht ist natürlich: sabbern und bellen... Um zu sehen, ob Bello auch auf unser Kommando hört, sagen wir ihr ihm, er soll Sitz machen:"
   ]
  },
  {
   "cell_type": "code",
   "execution_count": null,
   "metadata": {},
   "outputs": [],
   "source": [
    "Bello.sitz()"
   ]
  },
  {
   "cell_type": "markdown",
   "metadata": {},
   "source": [
    "Wenigstens das klappt. Bei genauerem hinsehen ist uns aufgefallen, dass Bello blaue Augen hat. Deshalb bekommt Bello ein weiteres Attribut:"
   ]
  },
  {
   "cell_type": "code",
   "execution_count": null,
   "metadata": {},
   "outputs": [],
   "source": [
    "Bello.augenfarbe = \"blau\""
   ]
  },
  {
   "cell_type": "markdown",
   "metadata": {},
   "source": [
    "Wir wissen nun also, dass Bello ein Objekt der Klasse <b><code style=\"color:#9b0014\">Hunde</code></b> ist, das verschiedene <b><code style=\"color:#9872a2\">Attribute</code></b> und <b><code style=\"color:#ce5d19\">Methoden</code></b> hat. Da die einzelnen Attribute in Form eines Dictionaries gespeichert werden, lassen wir uns zum Abschluss noch einmal alle Attribute unseres lieben Bellos anzeigen:"
   ]
  },
  {
   "cell_type": "code",
   "execution_count": null,
   "metadata": {},
   "outputs": [],
   "source": [
    "Bello.__dict__"
   ]
  }
 ],
 "metadata": {
  "interpreter": {
   "hash": "fc97be64c9ee71bc581e1e9ac6a692ed27a59201610f596c77b9adfd31c21240"
  },
  "kernelspec": {
   "display_name": "Python 3",
   "language": "python",
   "name": "python3"
  },
  "language_info": {
   "codemirror_mode": {
    "name": "ipython",
    "version": 3
   },
   "file_extension": ".py",
   "mimetype": "text/x-python",
   "name": "python",
   "nbconvert_exporter": "python",
   "pygments_lexer": "ipython3",
   "version": "3.8.8"
  }
 },
 "nbformat": 4,
 "nbformat_minor": 2
}
