{
 "cells": [
  {
   "cell_type": "markdown",
   "metadata": {},
   "source": [
    "# Mit dem Corpus arbeiten\n",
    "\n",
    "## 1 Dumps laden"
   ]
  },
  {
   "cell_type": "code",
   "execution_count": 7,
   "metadata": {},
   "outputs": [
    {
     "data": {
      "text/plain": [
       "['1-1_6_dump.pkl',\n",
       " '103-1_6_dump.pkl',\n",
       " '2-1_6_dump.pkl',\n",
       " '26-1_6_dump.pkl',\n",
       " '28-1_6_dump.pkl',\n",
       " '33-1_6_dump.pkl',\n",
       " '37-1_6_dump.pkl',\n",
       " '4-1_6_dump.pkl',\n",
       " '67-1_6_dump.pkl',\n",
       " '76-1_6_dump.pkl']"
      ]
     },
     "execution_count": 7,
     "metadata": {},
     "output_type": "execute_result"
    }
   ],
   "source": [
    "from os import listdir\n",
    "from os.path import isfile, join\n",
    "\n",
    "mypath = \"./dumps/\"\n",
    "fileslisting = [f for f in listdir(mypath) if isfile(join(mypath, f))]\n",
    "\n",
    "fileslisting\n"
   ]
  },
  {
   "cell_type": "code",
   "execution_count": 11,
   "metadata": {},
   "outputs": [],
   "source": [
    "import pickle\n",
    "\n",
    "samples = []\n",
    "for i in onlyfiles:\n",
    "    with open(mypath + i, \"rb\") as sf:\n",
    "        samples.append(pickle.load(sf))"
   ]
  },
  {
   "cell_type": "markdown",
   "metadata": {},
   "source": [
    "## 2 Überschneidungen im Wortschatz finden"
   ]
  },
  {
   "cell_type": "code",
   "execution_count": 129,
   "metadata": {},
   "outputs": [],
   "source": [
    "parameter = \"lex\"\n",
    "\n",
    "common_words = set([i.analyses[0].analysis[parameter] for i in samples[0].Filtered])\n",
    "j = 1\n",
    "while j < len(samples):\n",
    "    common_words = set(x & set([i.analyses[0].analysis[parameter] for i in samples[j].Filtered]))\n",
    "    j +=1"
   ]
  },
  {
   "cell_type": "code",
   "execution_count": 130,
   "metadata": {},
   "outputs": [
    {
     "data": {
      "text/plain": [
       "{'طَرِيق'}"
      ]
     },
     "execution_count": 130,
     "metadata": {},
     "output_type": "execute_result"
    }
   ],
   "source": [
    "common_words"
   ]
  }
 ],
 "metadata": {
  "interpreter": {
   "hash": "fc97be64c9ee71bc581e1e9ac6a692ed27a59201610f596c77b9adfd31c21240"
  },
  "kernelspec": {
   "display_name": "Python 3.8.8 64-bit ('base': conda)",
   "language": "python",
   "name": "python3"
  },
  "language_info": {
   "codemirror_mode": {
    "name": "ipython",
    "version": 3
   },
   "file_extension": ".py",
   "mimetype": "text/x-python",
   "name": "python",
   "nbconvert_exporter": "python",
   "pygments_lexer": "ipython3",
   "version": "3.8.8"
  },
  "orig_nbformat": 4
 },
 "nbformat": 4,
 "nbformat_minor": 2
}
