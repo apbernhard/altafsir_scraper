{
 "cells": [
  {
   "cell_type": "markdown",
   "metadata": {},
   "source": [
    "# Working on the corpus\n",
    "\n",
    "## 1 Loading JSON files"
   ]
  },
  {
   "cell_type": "code",
   "execution_count": 1,
   "metadata": {},
   "outputs": [],
   "source": [
    "from os import listdir\n",
    "from os.path import isfile, join\n",
    "\n",
    "mypath = \"C:\\\\Users\\\\Adrian\\\\sciebo\\\\Masterarbeit\\\\SFB-Kollaborationsordner\\\\Korpus\\\\altafsir\\\\\"\n",
    "fileslisting = [f for f in listdir(mypath) if isfile(join(mypath, f))]"
   ]
  },
  {
   "cell_type": "code",
   "execution_count": 2,
   "metadata": {},
   "outputs": [],
   "source": [
    "# Loading all files into memory\n",
    "\n",
    "import json\n",
    "\n",
    "samples = []\n",
    "\n",
    "for i in fileslisting:\n",
    "    with open(mypath + i, encoding=\"utf8\") as f:\n",
    "        samples.append(json.load(f)[\"text\"])"
   ]
  },
  {
   "cell_type": "code",
   "execution_count": 3,
   "metadata": {},
   "outputs": [],
   "source": [
    "# tokenization\n",
    "counter = 0\n",
    "samples_split = []\n",
    "while counter < len(samples):\n",
    "    samples_split.append([samples[counter].split(\" \")])\n",
    "    counter += 1"
   ]
  },
  {
   "cell_type": "code",
   "execution_count": 18,
   "metadata": {},
   "outputs": [],
   "source": [
    "# count number of characters of each unit\n",
    "chars = [len(i) for i in samples]\n",
    "\n",
    "# count number of words of each passage\n",
    "words = [len(i) for i in [i[0] for i in samples_split]]"
   ]
  },
  {
   "cell_type": "code",
   "execution_count": 12,
   "metadata": {},
   "outputs": [
    {
     "data": {
      "text/plain": [
       "420542245"
      ]
     },
     "execution_count": 12,
     "metadata": {},
     "output_type": "execute_result"
    }
   ],
   "source": [
    "# characters (total)\n",
    "chars_total = sum(len(i) for i in samples)\n",
    "\n",
    "# words (total)\n",
    "words_total = sum(len(i) for i in [i[0] for i in samples_split])"
   ]
  },
  {
   "cell_type": "code",
   "execution_count": 29,
   "metadata": {},
   "outputs": [
    {
     "data": {
      "text/plain": [
       "22103"
      ]
     },
     "execution_count": 29,
     "metadata": {},
     "output_type": "execute_result"
    }
   ],
   "source": [
    "sorted(words, reverse=True)[20]"
   ]
  },
  {
   "cell_type": "code",
   "execution_count": 76,
   "metadata": {},
   "outputs": [],
   "source": [
    "# Werte berechnen\n",
    "\n",
    "import statistics\n",
    "\n",
    "mean = statistics.mean(chars)\n",
    "stdev = statistics.stdev(chars)\n",
    "variance = statistics.variance(chars)"
   ]
  },
  {
   "cell_type": "markdown",
   "metadata": {},
   "source": [
    "## Visualisierung"
   ]
  },
  {
   "cell_type": "code",
   "execution_count": 74,
   "metadata": {},
   "outputs": [
    {
     "data": {
      "image/png": "[encoded data removed]",
      "text/plain": [
       "<Figure size 720x504 with 1 Axes>"
      ]
     },
     "metadata": {
      "needs_background": "light"
     },
     "output_type": "display_data"
    }
   ],
   "source": [
    "import matplotlib.pyplot as plt\n",
    " \n",
    " \n",
    "# Creating dataset\n",
    "\n",
    "fig = plt.figure(figsize =(10, 7))\n",
    " \n",
    "# Creating plot\n",
    "plt.boxplot(words[:6])\n",
    " \n",
    "# show plot\n",
    "plt.show()"
   ]
  }
 ],
 "metadata": {
  "kernelspec": {
   "display_name": "Python 3.7.2 ('.venv': venv)",
   "language": "python",
   "name": "python3"
  },
  "language_info": {
   "codemirror_mode": {
    "name": "ipython",
    "version": 3
   },
   "file_extension": ".py",
   "mimetype": "text/x-python",
   "name": "python",
   "nbconvert_exporter": "python",
   "pygments_lexer": "ipython3",
   "version": "3.7.2"
  },
  "orig_nbformat": 4,
  "vscode": {
   "interpreter": {
    "hash": "7bf3d3183ded7670995e6c24b70c5ca52e87911fbd2db07e454eb8fe2a773df0"
   }
  }
 },
 "nbformat": 4,
 "nbformat_minor": 2
}
