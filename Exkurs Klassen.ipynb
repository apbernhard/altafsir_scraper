{
 "cells": [
  {
   "cell_type": "markdown",
   "metadata": {},
   "source": [
    "## <center>Exkurs: Klassen</center>\n",
    "Werfen wir einen kurzen Blick auf das Foto, so erkennen wir unschwer, dass es sich bei all den abgebildeten Vierbeinern, so sehr sie sich auch unterscheiden mögen, um Hunde handelt. Deshalb sagen wir, dass sie der Klasse <code style=\"color:#9b0014\">Hunde</code> angehören. Deshalb ist jeder einzelne Vierbeiner eine Instanz des Objekttyps \"Hund\".\n",
    "<center><img src=\"./assets/images/Collage_of_Nine_Dogs.jpg\" width=500 /></center><br>\n",
    "Zudem haben Hunde bestimmte Eigenschaften wie <code style=\"color:#9872a2\">Größe</code>, <code style=\"color:#9872a2\">Fellfarbe</code> oder <code style=\"color:#9872a2\">Schnauzentyp</code>. Diese Eigenschaften nennen wir <code style=\"color:#9872a2\">Attribute</code>.<br>\n",
    "Hunde haben aber auch bestimmte Fähigkeiten, für die sie von vielen Menschen geliebt werden: Sie können zum Beispiel mit ihrer Nase <code style=\"color:#ce5d19\">spüren()</code>, können <code style=\"color:#ce5d19\">bellen()</code> oder <code style=\"color:#ce5d19\">sabbern()</code>. All diese Fähigkeiten sind im Prinzip Funktionen, da sie aber zur Klasse <code style=\"color:#9b0014\">Hunde</code> gehören, nennen wir sie <code style=\"color:#ce5d19\">Methoden</code>.<br>\n",
    "Lasst uns nun diese Beispielklasse erstellen:"
   ]
  },
  {
   "cell_type": "code",
   "execution_count": 1,
   "metadata": {},
   "outputs": [],
   "source": [
    "# Wir definieren eine neue Klasse Namens \"Hunde\"\n",
    "class Hunde:\n",
    "    # wird eine Instanz von Hunde, also ein Hund, initialisiert\n",
    "    # müssen die Attribute Größe, Fellfarbe und Schnauzentyp angegeben werden\n",
    "    def __init__(self, groesse, fellfarbe, schnauzentyp):\n",
    "        self.groesse = groesse\n",
    "        self.fellfarbe = fellfarbe\n",
    "        self.schnauzentyp = schnauzentyp\n",
    "        self.sabbern()\n",
    "        self.bellen()\n",
    "\n",
    "# ein Hund kann bellen, sabbern und sitz machen.\n",
    "# Damit ihm aber klar wird, dass genau er gemeint ist\n",
    "# müssen wir ihn bestärken, indem wir immer \n",
    "# \"Du! Ja, Bello! Fein, Du Bello!\" sagen.\n",
    "# Und das machen wir jedes mal wieder durch self ...\n",
    "    def bellen(self):\n",
    "        print(\"...Wuff Wuff!\")\n",
    "\n",
    "    def sabbern(self):\n",
    "        print(\"...sabbert...\")\n",
    "\n",
    "    def sitz(self):\n",
    "        print(\"...macht Sitz...\")"
   ]
  },
  {
   "cell_type": "markdown",
   "metadata": {},
   "source": [
    "Wir haben nun die Klasse <code style=\"color:#9b0014\">Hunde</code> erstellt und können unseren ersten Hund nach Hause holen/initialisieren. Diesen würden wir gerne <code>bello</code> nennen. Bello ist 40 cm groß, hat braunes Fell und eine Stupsnase."
   ]
  },
  {
   "cell_type": "code",
   "execution_count": 2,
   "metadata": {},
   "outputs": [
    {
     "name": "stdout",
     "output_type": "stream",
     "text": [
      "...sabbert...\n",
      "...Wuff Wuff!\n"
     ]
    }
   ],
   "source": [
    "Bello = Hunde(120, \"braun\", \"gedrungen\")"
   ]
  },
  {
   "cell_type": "markdown",
   "metadata": {},
   "source": [
    "Bello ist zuhause angekommen und das erste was er macht ist natürlich: sabbern und bellen... Um zu sehen, ob Bello auch auf unser Kommando hört, sagen wir ihr ihm, er soll Sitz machen:"
   ]
  },
  {
   "cell_type": "code",
   "execution_count": 3,
   "metadata": {},
   "outputs": [
    {
     "name": "stdout",
     "output_type": "stream",
     "text": [
      "...macht Sitz...\n"
     ]
    }
   ],
   "source": [
    "Bello.sitz()"
   ]
  },
  {
   "cell_type": "markdown",
   "metadata": {},
   "source": [
    "Wenigstens das klappt. Bei genauerem hinsehen ist uns aufgefallen, dass Bello blaue Augen hat. Deshalb bekommt Bello ein weiteres Attribut:"
   ]
  },
  {
   "cell_type": "code",
   "execution_count": 4,
   "metadata": {},
   "outputs": [],
   "source": [
    "Bello.augenfarbe = \"blau\""
   ]
  },
  {
   "cell_type": "markdown",
   "metadata": {},
   "source": [
    "Wir wissen nun also, dass Bello ein Objekt der Klasse <code style=\"color:#9b0014\">Hunde</code> ist, das verschiedene <code style=\"color:#9872a2\">Attribute</code> und <code style=\"color:#ce5d19\">Methoden</code> hat. Da die einzelnen Attribute in Form eines Dictionaries gespeichert werden, lassen wir uns zum Abschluss noch einmal alle Attribute unseres lieben Bellos anzeigen:"
   ]
  },
  {
   "cell_type": "code",
   "execution_count": 5,
   "metadata": {},
   "outputs": [
    {
     "data": {
      "text/plain": [
       "{'groesse': 120,\n",
       " 'fellfarbe': 'braun',\n",
       " 'schnauzentyp': 'gedrungen',\n",
       " 'augenfarbe': 'blau'}"
      ]
     },
     "execution_count": 5,
     "metadata": {},
     "output_type": "execute_result"
    }
   ],
   "source": [
    "Bello.__dict__"
   ]
  }
 ],
 "metadata": {
  "interpreter": {
   "hash": "fc97be64c9ee71bc581e1e9ac6a692ed27a59201610f596c77b9adfd31c21240"
  },
  "kernelspec": {
   "display_name": "Python 3.8.8 64-bit ('base': conda)",
   "language": "python",
   "name": "python3"
  },
  "language_info": {
   "codemirror_mode": {
    "name": "ipython",
    "version": 3
   },
   "file_extension": ".py",
   "mimetype": "text/x-python",
   "name": "python",
   "nbconvert_exporter": "python",
   "pygments_lexer": "ipython3",
   "version": "3.8.8"
  },
  "orig_nbformat": 4
 },
 "nbformat": 4,
 "nbformat_minor": 2
}
